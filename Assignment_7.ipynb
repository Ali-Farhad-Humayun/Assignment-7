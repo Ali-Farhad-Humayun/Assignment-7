{
  "nbformat": 4,
  "nbformat_minor": 0,
  "metadata": {
    "colab": {
      "provenance": [],
      "authorship_tag": "ABX9TyNiJPtgIm2EPkJmeinngpOq",
      "include_colab_link": true
    },
    "kernelspec": {
      "name": "python3",
      "display_name": "Python 3"
    },
    "language_info": {
      "name": "python"
    }
  },
  "cells": [
    {
      "cell_type": "markdown",
      "metadata": {
        "id": "view-in-github",
        "colab_type": "text"
      },
      "source": [
        "<a href=\"https://colab.research.google.com/github/Ali-Farhad-Humayun/Assignment-7/blob/main/Assignment_7.ipynb\" target=\"_parent\"><img src=\"https://colab.research.google.com/assets/colab-badge.svg\" alt=\"Open In Colab\"/></a>"
      ]
    },
    {
      "cell_type": "code",
      "execution_count": null,
      "metadata": {
        "id": "-u1SEqsXEPkX"
      },
      "outputs": [],
      "source": []
    },
    {
      "cell_type": "markdown",
      "source": [
        "#Task 2. Problem Statement: Explain the difference between Absolute and Relative positioning.\n",
        "\n",
        "-->Answer:\n",
        "\n",
        "    Relative Positioning:\n",
        "\n",
        "-  The element is positioned relative to its normal position in the document flow\n",
        "\n",
        "-  Space is reserved for the element as if it wasn't positioned\n",
        "\n",
        "-  Using top, right, bottom, left properties offsets the element from its normal position\n",
        "\n",
        "-  Doesn't affect the position of other elements\n",
        "\n",
        "    Absolute Positioning:\n",
        "\n",
        "-  The element is removed from the normal document flow\n",
        "\n",
        "-  Positioned relative to its nearest positioned ancestor (if any) or the initial containing block (usually the viewport)\n",
        "\n",
        "-  No space is reserved for the element in the page layout\n",
        "\n",
        "-  Can overlap other elements\n",
        "\n",
        "-  Using top, right, bottom, left properties positions the element relative to its containing block"
      ],
      "metadata": {
        "id": "cuDPT9FFEy0U"
      }
    },
    {
      "cell_type": "markdown",
      "source": [
        "# Task 5. Problem Statement: Explain the z-index, with a code example.\n",
        "\n",
        "-->Answer:\n",
        "\n",
        "    z-index\n",
        "\n",
        "-  The z-index property in CSS helps control the stacking order of positioned elements (elements whose position property is set to relative, absolute, fixed, or sticky).\n",
        "\n",
        "-  Elements with a higher z-index value will appear in front of elements with a lower z-index value.\n",
        "-  Elements with the same z-index value are stacked in the order they appear in the HTML (the element that appears last in the code is on top).\n",
        "-  z-index only works on positioned elements.  "
      ],
      "metadata": {
        "id": "Z1Jo6ZI9pgtO"
      }
    }
  ]
}